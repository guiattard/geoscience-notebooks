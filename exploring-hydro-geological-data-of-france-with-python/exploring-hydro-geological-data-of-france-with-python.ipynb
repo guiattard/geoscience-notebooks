{
  "cells": [
    {
      "cell_type": "markdown",
      "metadata": {
        "colab_type": "text",
        "id": "view-in-github"
      },
      "source": [
        "<a href=\"https://colab.research.google.com/github/guiattard/PythonForGeosciences/blob/master/exploring-hydro-geological-data-of-france-with-python/exploring-hydro-geological-data-of-france-with-python.ipynb\" target=\"_parent\"><img src=\"https://colab.research.google.com/assets/colab-badge.svg\" alt=\"Open In Colab\"/></a>"
      ]
    },
    {
      "cell_type": "markdown",
      "metadata": {
        "id": "Jy8klkZ3UO84"
      },
      "source": [
        "# Exploring (hydro-)geological data of France with python"
      ]
    },
    {
      "cell_type": "code",
      "execution_count": null,
      "metadata": {
        "id": "wFr0_Qqy5T6b"
      },
      "outputs": [],
      "source": [
        "#@title Copyright 2020 Guillaume Attard { display-mode: \"form\" }\n",
        "#\n",
        "# Licensed under the Apache License, Version 2.0 (the \"License\");\n",
        "# you may not use this file except in compliance with the License.\n",
        "# You may obtain a copy of the License at\n",
        "#\n",
        "# https://www.apache.org/licenses/LICENSE-2.0\n",
        "#\n",
        "# Unless required by applicable law or agreed to in writing, software\n",
        "# distributed under the License is distributed on an \"AS IS\" BASIS,\n",
        "# WITHOUT WARRANTIES OR CONDITIONS OF ANY KIND, either express or implied.\n",
        "# See the License for the specific language governing permissions and\n",
        "# limitations under the License.\n"
      ]
    },
    {
      "attachments": {},
      "cell_type": "markdown",
      "metadata": {
        "id": "ihH2Wa7XUO84"
      },
      "source": [
        "by [Guilllaume Attard - Ageoce](https://ageoce.com/)"
      ]
    },
    {
      "cell_type": "markdown",
      "metadata": {
        "id": "bHtwRGx8UO84"
      },
      "source": [
        "## Introduction\n",
        "\n",
        "In France, main geological/geoscientific data are managed by the [French Geological Survey](https://www.brgm.fr/) and several platforms provide a public and free access to many datasets such as:\n",
        "- [geological maps](https://infoterre.brgm.fr/page/telechargement-cartes-geologiques),\n",
        "- boreholes, piezometers and wells locations, geological reports and cross sections ([InfoTerre](https://infoterre.brgm.fr/viewer/MainTileForward.do)). In France, this database is known as the BSS (*Base de donnée du Sous-Sol*) which includes more than 700 000 boreholes descriptions,\n",
        "- piezometric time series and physico-chemical analysis from the national monitoring network ([ADES](https://ades.eaufrance.fr/)).\n",
        "\n",
        "These data dedicated to the (hydro-)geological knowledge are used by engineers and scientists to prevent natural risks and disasters (e.g. landslides or settlements), protect groundwater ressources and secure water supply for example. Particularly, these data can be used in many fields such as hydrogeology, geothermal energy and geotechnical applications.\n",
        "\n",
        "These datasets can be explored and download manually by visiting the main platform of the french geological survey [InfoTerre](https://infoterre.brgm.fr/viewer/MainTileForward.do), but when it comes to export a large amount of data, at a regional scale, this task becomes tedious and time consuming. To face this problem and improve the dissemination of geoscientific data to the public and to scientists, the French geological survey recently developed many geo-webservices in accordance with European open-data requirements. These geo-webservices can help to automate geological data manipulation, analysis and mapping.\n",
        "\n",
        "Consequently, the aim of this article is to present some of these services. Particularly, we are going to:\n",
        "- download and analyze boreholes information at the scale of the department of our choice: water supply wells and geothermal installations will be identified.\n",
        "- map all this hydrogeological information on an interactive folium map and add the geological tiles of France.\n",
        "- play with two [Hubeau APIs](https://hubeau.eaufrance.fr/) to describe piezometric and physico-chemical characteristics of some groundwater wells: we will learn how to access and analyze hydraulic heads and groundwater quality fluctuations on the groundwater wells we want.\n",
        "\n",
        "## Run me first\n",
        "\n",
        "### Import usefull libraries\n",
        "\n",
        "Before starting we need to install/import some libraries:"
      ]
    },
    {
      "cell_type": "code",
      "execution_count": null,
      "metadata": {
        "id": "B2PZs9nCpW03"
      },
      "outputs": [],
      "source": [
        "!apt install gdal-bin python-gdal python3-gdal\n",
        "!pip install fiona shapely pyproj\n",
        "!apt install python3-rtree \n",
        "!pip install geopandas\n",
        "!pip install descartes \n",
        "!pip install folium\n"
      ]
    },
    {
      "cell_type": "code",
      "execution_count": null,
      "metadata": {
        "id": "dF0OKOcIUO84"
      },
      "outputs": [],
      "source": [
        "import pandas as pd\n",
        "import geopandas as gpd\n",
        "import zipfile\n",
        "import requests\n",
        "import numpy as np\n",
        "from pyproj import Transformer\n",
        "import os\n",
        "import datetime\n",
        "import matplotlib as mpl\n",
        "import matplotlib.pyplot as plt\n",
        "\n",
        "%matplotlib inline\n"
      ]
    },
    {
      "cell_type": "markdown",
      "metadata": {
        "id": "IP08uZ_4UO84"
      },
      "source": [
        "### Administrative units of France\n",
        "\n",
        "To download information at the scale of a department, we need some a geographical dataset with administrative units of France. We can use the openstreetmap shapefile of departments of France. We download this shapefile and put it in a local directory as follow:"
      ]
    },
    {
      "cell_type": "code",
      "execution_count": null,
      "metadata": {
        "colab": {
          "base_uri": "https://localhost:8080/",
          "height": 206
        },
        "id": "rz-AS5kNUO84",
        "outputId": "140f73e3-a0cc-491e-cc4e-ebade39793cb"
      },
      "outputs": [],
      "source": [
        "# The url where we can fide the shapefile.\n",
        "url_dep = \"http://osm13.openstreetmap.fr/~cquest/openfla/export/departements-20180101-shp.zip\"\n",
        "\n",
        "# The name of the zip file.\n",
        "file_dep = \"departements-20180101-shp.zip\"\n",
        "\n",
        "# Download the file at the given url.\n",
        "r = requests.get(url_dep)\n",
        "\n",
        "# Open the file.\n",
        "open(file_dep, 'wb').write(r.content)\n",
        "\n",
        "# Extract the content of the .zip file.\n",
        "with zipfile.ZipFile(file_dep, 'r') as unzip: unzip.extractall(\"dep.shp\")\n",
        "\n",
        "# Read the shapefile.\n",
        "dep = gpd.read_file(\"dep.shp\")\n",
        "\n",
        "# Remove the zipfile.\n",
        "os.remove(file_dep)\n",
        "\n",
        "# Print the head of the geodataframe.\n",
        "dep.head()\n"
      ]
    },
    {
      "cell_type": "markdown",
      "metadata": {
        "id": "BFnisjhhUO85"
      },
      "source": [
        "All department numbers are indicated in the column *code_insee*. We should be careful about this number because the *Rhône* department is identified as 69D to make the difference with the metropolitan area of Lyon which is identified as 69M. Here, we do not want to distinguish them so we create a new column associating the same number *69*."
      ]
    },
    {
      "cell_type": "code",
      "execution_count": null,
      "metadata": {
        "id": "rqk4EgfuUO85"
      },
      "outputs": [],
      "source": [
        "dep[\"num\"] = dep[\"code_insee\"]\n",
        "dep = dep.set_index(\"code_insee\")\n",
        "dep.at[\"69M\", \"num\"] = \"69\"\n",
        "dep.at[\"69D\", \"num\"] = \"69\"\n"
      ]
    },
    {
      "cell_type": "markdown",
      "metadata": {
        "id": "TQYRR6ZDUO85"
      },
      "source": [
        "### Selection of some departments of interest\n",
        "\n",
        "To see the result, we can select some departments of interest and preview their shape. In the following, we will work with this selection of departments numbers to get some (hydro-)geological information. I decided to work with the department of the Ain (01), the Rhône (69) and of the Isère (38)."
      ]
    },
    {
      "cell_type": "code",
      "execution_count": null,
      "metadata": {
        "colab": {
          "base_uri": "https://localhost:8080/",
          "height": 265
        },
        "id": "LptjwbN_UO85",
        "outputId": "b5d81c96-ae96-4769-fd4a-f3ddf0b11a00"
      },
      "outputs": [],
      "source": [
        "# Select the numbers (as strings) of our department of interest.\n",
        "deps_of_interest = ['69', '01', '38']\n",
        "\n",
        "# Reduce our geodataframe to our departement of interest.\n",
        "dep = dep.loc[dep[\"num\"].isin(deps_of_interest)]\n",
        "dep.plot()\n",
        "\n",
        "plt.show()\n"
      ]
    },
    {
      "cell_type": "markdown",
      "metadata": {
        "id": "ortbvJpaUO85"
      },
      "source": [
        "We also download a dataset of main cities of France (more than 100'000 inhabitants) and we keep the cities inside our depatment of interest following a similar procedure."
      ]
    },
    {
      "cell_type": "code",
      "execution_count": null,
      "metadata": {
        "colab": {
          "base_uri": "https://localhost:8080/",
          "height": 241
        },
        "id": "YMYoVODsUO85",
        "outputId": "56f5286c-7823-4b17-95b9-0883bc89fe9c"
      },
      "outputs": [],
      "source": [
        "# The url where we can fide the shapefile cities\n",
        "url_cit = \"https://simplemaps.com/static/data/country-cities/fr/fr.csv\"\n",
        "\n",
        "# Same procedure as seen before for departments\n",
        "file_cit = \"fr.csv\"\n",
        "\n",
        "r = requests.get(url_cit)\n",
        "open(file_cit, 'wb').write(r.content)\n",
        "\n",
        "cit = pd.read_csv('fr.csv', encoding='utf-8')\n",
        "\n",
        "# Convert cit into a geodataframe.\n",
        "geo_cit = gpd.GeoDataFrame(cit, geometry = gpd.points_from_xy(cit.lng, cit.lat),\n",
        "                           crs = 'epsg:4326')\n",
        "\n",
        "# Keep cities inside our dep of interes.\n",
        "geo_cit = gpd.sjoin(geo_cit, dep, op='within')\n",
        "\n",
        "# Sort the associated table by population and remove NaN lines.\n",
        "geo_cit = geo_cit.sort_values(by=['population_proper'], ascending = False).dropna()\n",
        "\n",
        "# Print the head of our geodataframe.\n",
        "geo_cit.head()\n"
      ]
    },
    {
      "cell_type": "markdown",
      "metadata": {
        "id": "bQkM99T5UO85"
      },
      "source": [
        "## Extraction and analysis of boreholes information (BSS data)\n",
        "\n",
        "### Get our data into a clean (geo-)dataframe\n",
        "\n",
        "Now, we want to get some information about the geological units of these departments. In the following, we are going to define a function that take the department number as input and which give a dataframe of boreholes information as output. Then, we will be able to identify we groundwater wells or geothermal installations are located and determine the groundwater table depth."
      ]
    },
    {
      "cell_type": "code",
      "execution_count": null,
      "metadata": {
        "id": "V5PPfMSUUO86"
      },
      "outputs": [],
      "source": [
        "def download_bss_dep(num):\n",
        "    # We use the URL where we can find all BSS zipfile sorted by department\n",
        "    url_root = \"http://infoterre.brgm.fr/telechargements/ExportsPublicsBSS/\"\n",
        "    file = \"bss_export_\" + num + \".zip\"\n",
        "    url = url_root + file\n",
        "    \n",
        "    # Define the final name of our file.\n",
        "    final_name = \"bss_export_\" + num +\".csv\"\n",
        "    \n",
        "    if os.path.isfile(final_name):\n",
        "        # If we have already download this BSS dep, no need to download it again\n",
        "        print(file +\" already exists. Remove it if an update is necessary.\")\n",
        "        bss = pd.read_csv(final_name, sep=';', decimal=\",\", low_memory=False)\n",
        "    else:\n",
        "        # Download the data and we reproduce the previous process.\n",
        "        print(file +\" does not exist. Download in progress.\")\n",
        "        r = requests.get(url)\n",
        "        open(file, 'wb').write(r.content)\n",
        "        with zipfile.ZipFile(file, 'r') as unzip: unzip.extractall()\n",
        "        print(file +\" is now downloaded.\")\n",
        "\n",
        "        # Remove the zip.\n",
        "        os.remove(file)\n",
        "\n",
        "        # Build the dataframe by reading the csv file.\n",
        "        bss = pd.read_csv(final_name, sep=';', decimal=\",\", low_memory=False)\n",
        "    return bss\n"
      ]
    },
    {
      "cell_type": "markdown",
      "metadata": {
        "id": "h1iTTkoTUO86"
      },
      "source": [
        "Now we can make a loop and concatenate the data of our departments of interest:"
      ]
    },
    {
      "cell_type": "code",
      "execution_count": null,
      "metadata": {
        "colab": {
          "base_uri": "https://localhost:8080/",
          "height": 670
        },
        "id": "wnYpAlXaUO86",
        "outputId": "7e7061b2-ef92-44b4-e5d9-0aee4d91ec14"
      },
      "outputs": [],
      "source": [
        "# Create an empty dataframe.\n",
        "bss_dataset = pd.DataFrame()\n",
        "\n",
        "# Loop to apply our function on depatments of interest.\n",
        "for num_dep in deps_of_interest:\n",
        "    bss = download_bss_dep(num_dep)\n",
        "    frames = [bss_dataset, bss]\n",
        "    bss_dataset = pd.concat(frames)\n",
        "    print('Departement', num_dep, 'is done.')\n",
        "    \n",
        "bss_dataset.head()\n"
      ]
    },
    {
      "cell_type": "markdown",
      "metadata": {
        "id": "qE5QgYFfUO86"
      },
      "source": [
        "As you can see, there are 71 columns: *'ID_BSS', 'indice', 'designation', 'nom_abrege', 'libelle', 'lien_infoterre', 'google_maps', 'coupe_geologique', 'coupe_autre', 'log_geol_verifie', 'nb_scans', 'nb_scans_coupe', 'lex_organisme', 'lex_type_declaration', 'point_eau', 'lex_sgr', 'lex_num_departement', 'lex_nom_departement', 'lex_num_commune', 'lex_insee_commune', 'lex_nom_commune', 'lieu_dit', 'x_saisie', 'y_saisie', 'lex_projection_saisie', 'lex_unite_saisie', 'x_ref06', 'y_ref06', 'lex_projection_ref06', 'lex_precision_xy', 'lex_qual_position', 'z_sol', 'lex_prec_z_sol', 'lex_mode_obtention_z', 'z_bdalti', 'lex_nature', 'prof_investigation', 'prof_accessible', 'diametre_tubage', 'prof_eau_sol', 'lex_type_prof_eau_sol', 'date_eau_sol', 'z_origine_coupe', 'lex_prec_z_origine_coupe', 'date_coupe', 'date_fin_travaux', 'nombre_observations', 'lex_num_carte_geol', 'lex_nom_carte_geol', 'coupure_huitieme', 'lex_etat_physique', 'lex_etat', 'lex_execution', 'lex_utilisation', 'lex_recherche', 'lex_exploitation', 'lex_reconnaissance', 'lex_fonction', 'deb_fonction', 'lex_usage', 'deb_usage', 'lex_gisement', 'lex_documents', 'reference', 'date_dossier', 'date_saisie', 'date_dern_maj', 'procede_geothermique', 'categorie_geothermie', 'usage_geothermie', 'relation_aquifere'*.\n",
        "\n",
        "In the following, we reduce our focus to few relevent attributs (but please add more if you want to):\n",
        "- *ID_BSS*, *indice* and *designation* which are national codes of boreholes. These codes are requested when making queries to different webservices (we'll see that later),\n",
        "- *point_eau* is a bolean indicating if there is some groundwater or not,\n",
        "- *x_ref06* and *y_ref06* are indicating the location in a geographical projection given by *lex_projection_ref06*,\n",
        "- *z_sol* indicates the ground elevation mesured and *z_bdalti* the ground elevation given by the IGN at the same location (can be useful to get both to identify some errors),\n",
        "- *prof_investigation* indicates the total depth of the borehole,\n",
        "- *prof_eau_sol* indicates the groundwater table depth if any exists,\n",
        "- *lex_usage* refer to the usage of the borehole/water well,\n",
        "- *procede_geothermique*, *categorie_geothermie*, and *usage_geothermie* are indicating if the point is actually a geothermal installation."
      ]
    },
    {
      "cell_type": "code",
      "execution_count": null,
      "metadata": {
        "colab": {
          "base_uri": "https://localhost:8080/",
          "height": 310
        },
        "id": "r0qaDm5TUO86",
        "outputId": "a34ba0c9-04d1-4e1a-8dd4-f1bfc678012d"
      },
      "outputs": [],
      "source": [
        "# Items of interest into a list.\n",
        "items = ['ID_BSS', 'indice', 'designation', 'x_ref06', 'y_ref06','lex_projection_ref06',\n",
        "         'z_sol', 'z_bdalti', 'point_eau', 'prof_investigation', 'prof_eau_sol',\n",
        "         'lex_usage', 'procede_geothermique','categorie_geothermie', 'usage_geothermie']\n",
        "\n",
        "# Reduce our dataframe to relevant items.\n",
        "bss_dataset = bss_dataset[[col for col in items]]\n",
        "\n",
        "# Define the old national ID of boreholes to access some data (later)\n",
        "bss_dataset['code_bss'] = bss_dataset['indice'] + '/' + bss_dataset['designation']\n",
        "bss_dataset.head()\n"
      ]
    },
    {
      "cell_type": "markdown",
      "metadata": {
        "id": "2EAUihxEUO86"
      },
      "source": [
        "Because the projection is not the same for all departments of France (because of overseas departments), the epsg number of different projections must be known. They are listed in a *epsg* dataframe below and finally, a procedure is made to convert all location in longitudes/latitudes (epsg:4326). **The following step is required in case you want to work on overseas departments. In case you won't, the following procedure still works to get longitudes/latitudes from Lambert 93 coordinates**."
      ]
    },
    {
      "cell_type": "code",
      "execution_count": null,
      "metadata": {
        "id": "zcmCHujLUO86"
      },
      "outputs": [],
      "source": [
        "# Build a epsg df to associate projection names and epsg codes.\n",
        "epsg_df = pd.DataFrame(columns = ['name', 'code_epsg'])\n",
        "epsg_df = epsg_df.set_index('name')\n",
        "epsg_df.at['Lambert-93', 'code_epsg'] = '2154'\n",
        "epsg_df.at['Antilles-84-RRAF91', 'code_epsg'] = '32620'\n",
        "epsg_df.at['Guyane-95', 'code_epsg'] = '2972'\n",
        "epsg_df.at['Réunion-92', 'code_epsg'] = '2975'\n",
        "epsg_df.at['Mayotte-2004', 'code_epsg'] = '4471'\n",
        "\n",
        "# Create a longitude and latitude column to our dataset.\n",
        "bss_dataset['long'] = ''\n",
        "bss_dataset['lat'] = ''\n",
        "\n",
        "# Loop through different projections to convert all in long/lat.\n",
        "for name in epsg_df.index:\n",
        "    if name in set(bss_dataset['lex_projection_ref06'].dropna()):\n",
        "        code = epsg_df.at[name, 'code_epsg']\n",
        "        \n",
        "        # This is the input projection name.\n",
        "        inProj = 'epsg:' + code\n",
        "        \n",
        "        # This is the output projection name.\n",
        "        outProj = 'epsg:4326'\n",
        "\n",
        "        # Get the X and Y data.\n",
        "        x = np.asanyarray(bss_dataset.loc[bss_dataset['lex_projection_ref06'] == name]['x_ref06'])\n",
        "        y = np.asanyarray(bss_dataset.loc[bss_dataset['lex_projection_ref06'] == name]['y_ref06'])\n",
        "        \n",
        "        # Define the transformer.\n",
        "        transformer = Transformer.from_crs(inProj, outProj)\n",
        "        \n",
        "        # Apply the transformer.\n",
        "        latitude ,longitude = transformer.transform(x, y)\n",
        "        \n",
        "        # Add the long/lat info to the dataframe.\n",
        "        bss_dataset.loc[bss_dataset['lex_projection_ref06'] == name, 'long'] = longitude\n",
        "        bss_dataset.loc[bss_dataset['lex_projection_ref06'] == name, 'lat'] = latitude\n",
        "    else:\n",
        "        continue\n",
        "\n",
        "# Remove lines where longitudes/latitudes are empty:\n",
        "bss_dataset = bss_dataset.loc[(bss_dataset['long'] != '') &\n",
        "                              (bss_dataset['lat'] != '')]\n",
        "\n",
        "# Convert our dataframe into a geodataframe:\n",
        "geo_bss = gpd.GeoDataFrame(bss_dataset, \n",
        "                           geometry=gpd.points_from_xy(bss_dataset.long, bss_dataset.lat),\n",
        "                           crs = 'epsg:4326')\n"
      ]
    },
    {
      "cell_type": "markdown",
      "metadata": {
        "id": "gPEL8cCxUO86"
      },
      "source": [
        "In practice, there are some errors in the reporting of points coordinates so to remove these errors, we make a spatial join of our geodataframe with the spatial extent of our department of interest: we only keep points inside our departments."
      ]
    },
    {
      "cell_type": "code",
      "execution_count": null,
      "metadata": {
        "colab": {
          "base_uri": "https://localhost:8080/"
        },
        "id": "d3vsxR7bsWxQ",
        "outputId": "2083952a-1a03-4964-d53b-1892e8e08652"
      },
      "outputs": [],
      "source": [
        "# Make some cleaning by removing points outside our departments of interest.\n",
        "geo_bss = gpd.sjoin(geo_bss, dep, op='within')\n"
      ]
    },
    {
      "cell_type": "markdown",
      "metadata": {
        "id": "oKJHVEO6sd6w"
      },
      "source": [
        "Finally, we plot the location of boreholes."
      ]
    },
    {
      "cell_type": "code",
      "execution_count": null,
      "metadata": {
        "colab": {
          "base_uri": "https://localhost:8080/",
          "height": 592
        },
        "id": "uB8Buh62UO86",
        "outputId": "f3cc5f62-b115-4ace-b8a1-eb7daf28bcd4"
      },
      "outputs": [],
      "source": [
        "fig, ax = plt.subplots(figsize=(10,10))\n",
        "\n",
        "# Plot our deps of interest with the Pastel 1 colormap.\n",
        "dep.plot(ax = ax, column = 'num', cmap = 'Pastel1', alpha = 0.75)\n",
        "\n",
        "# Add the location of borehole in black.\n",
        "geo_bss.plot(ax =ax, color = 'black', markersize=1, label = 'Borehole', alpha = 0.25)\n",
        "\n",
        "# Add 5 main cities.\n",
        "main_cities = geo_cit.head(5)\n",
        "main_cities.plot(ax =ax, color = 'orange', marker = 'o', markersize=100, label = 'City')\n",
        "\n",
        "# Add some cities to our map.\n",
        "for idx, row in main_cities.iterrows():\n",
        "    txt = plt.annotate(text=row['city'], \n",
        "                 xy=[row['geometry'].x +0.025, row['geometry'].y +0.025],\n",
        "                 horizontalalignment='left',\n",
        "                 color = 'black',\n",
        "                 backgroundcolor='w',\n",
        "                 fontsize = 12)\n",
        "    \n",
        "    txt.set_bbox(dict(facecolor='w', alpha=0.5, edgecolor='w'))\n",
        "\n",
        "plt.legend()\n",
        "plt.show()\n"
      ]
    },
    {
      "cell_type": "markdown",
      "metadata": {
        "id": "CBjqdHJzUO86"
      },
      "source": [
        "We can of course save our geodataframe as a shapefile, in a RESULTS folder as follow:"
      ]
    },
    {
      "cell_type": "code",
      "execution_count": null,
      "metadata": {
        "colab": {
          "base_uri": "https://localhost:8080/"
        },
        "id": "pXnxqShnUO86",
        "outputId": "438ebf2b-734e-4e42-d689-95511bb5a819"
      },
      "outputs": [],
      "source": [
        "# Define the directory name.\n",
        "dir_res = './RESULTS'\n",
        "\n",
        "try:\n",
        "# Create target Directory\n",
        "    os.mkdir(dir_res)\n",
        "except FileExistsError:\n",
        "    pass\n",
        "print('The folder is now created')\n",
        "\n",
        "# Save the file.\n",
        "geo_bss.to_file('./RESULTS/all_boreholes.shp')\n",
        "print('The file is saved')\n"
      ]
    },
    {
      "cell_type": "markdown",
      "metadata": {
        "id": "WMs3GcdLUO86"
      },
      "source": [
        "### Identifying groundwater wells and geothermal installations\n",
        "\n",
        "Of course we can decide to distinguish the kind of borehole we want to keep. For example, let's select (1) boreholes where a groundwater table depth is reported and (2) geothermal installations.\n",
        "\n",
        "In the first case, we keep points where the attribute *point_eau* is *OUI* (meaning that there is some groundwater right here) AND where *prof_eau_sol* is not a NaN value (meaning that we should know the groundwater table depth).\n",
        "\n",
        "In the second case, we keep points where *categorie_geothermie* OR *procede_geothermique* OR *usage_geothermie* is not a NaN value."
      ]
    },
    {
      "cell_type": "code",
      "execution_count": null,
      "metadata": {
        "colab": {
          "base_uri": "https://localhost:8080/",
          "height": 592
        },
        "id": "hUW3rbKyUO86",
        "outputId": "a39ae6b0-5c48-4b78-8f72-55c8b6def215"
      },
      "outputs": [],
      "source": [
        "# Create a new geodataframe with points where we know a groundwater table depth.\n",
        "geo_ww = geo_bss.loc[(geo_bss['point_eau'] == 'OUI') & (geo_bss['prof_eau_sol'].notna())]\n",
        "\n",
        "# Keep relevent features.\n",
        "geo_ww = geo_ww[['ID_BSS', 'code_bss', 'z_sol', 'z_bdalti','prof_investigation',\n",
        "                 'prof_eau_sol', 'geometry']]\n",
        "                 \n",
        "# Create a new geodataframe with points where a geothermal activity is known.\n",
        "geoth_points = geo_bss.loc[geo_bss['categorie_geothermie'].notna() |\n",
        "                    geo_bss['procede_geothermique'].notna() |\n",
        "                    geo_bss['usage_geothermie'].notna()]\n",
        "\n",
        "# Plot the result\n",
        "fig, ax = plt.subplots(figsize=(10,10))\n",
        "\n",
        "# We plot our deps of interest with the Pastel 1 colormap\n",
        "dep.plot(ax = ax, column = 'num', cmap = 'Pastel1', alpha = 0.75)\n",
        "\n",
        "# We add the location of borehole with water level in blue\n",
        "geo_ww.plot(ax =ax, color = 'blue', markersize=1, label = 'Borehole with a groundwater table level')\n",
        "\n",
        "# We add the location of geothermal installations in red\n",
        "geoth_points.plot(ax =ax, color = 'red', markersize=5, label = 'Geothermal installation')\n",
        "\n",
        "# We add some cities to our map\n",
        "main_cities.plot(ax =ax, color = 'orange', marker = 'o', markersize=100, label = 'City')\n",
        "\n",
        "plt.legend()\n",
        "plt.show()\n"
      ]
    },
    {
      "cell_type": "markdown",
      "metadata": {
        "id": "KtHDhSCqUO86"
      },
      "source": [
        "### Describing groundwater table elevation\n",
        "\n",
        "Now that we know where groundwater bodies are located, we might want to describe groundwater levels and maybe describe groundwater flow directions.\n",
        "\n",
        "To do so, we refine a location of interest by choosing the coordinate of a point, we also define a relevant buffer zone around this point to reduce our dataset to this area of interest. In our example, we select the city of Lyon, and a buffer zone of 10km.\n",
        "\n",
        "**Please note that groundwater table elevation fluctuates over time. In the following, the calculated value represents the water table elevation observed when the borehole was drilled. Also, it should be noted that the calculated values are not synchronous which can alter the local representativity regarding the interpretation groundwater flow directions and flow systems.**\n",
        "\n",
        "*Please note that we could instead import the polygon shapefile of our choice and select boreholes inside our polygon.* "
      ]
    },
    {
      "cell_type": "code",
      "execution_count": null,
      "metadata": {
        "colab": {
          "base_uri": "https://localhost:8080/",
          "height": 626
        },
        "id": "yFLi7K0-qtND",
        "outputId": "1dab4c26-cf08-49a6-c01b-9cf2491db75e"
      },
      "outputs": [],
      "source": [
        "# Define the long./lat. of our location of interest.\n",
        "site_lon, site_lat = 4.8400, 45.7600 \n",
        "\n",
        "site = pd.DataFrame({'Name': ['Lyon'],\n",
        "                     'lat': [site_lat],\n",
        "                     'lon': [site_lon]})\n",
        "\n",
        "# We then build a geopandas dataframe to create the associated point.\n",
        "buff_zone = gpd.GeoDataFrame(site, geometry = gpd.points_from_xy(site.lon, site.lat), \n",
        "                          crs = 'epsg:4326')\n",
        "\n",
        "# To apply a buffer zone, we need to change our projeciton system to work in a metric system.\n",
        "# In France, the common metric projection system is \"epsg:2154\".\n",
        "\n",
        "buff_zone = buff_zone.to_crs('epsg:2154')\n",
        "\n",
        "# Create our buffer zone of 10km:\n",
        "buff_zone['geometry'] = buff_zone['geometry'].buffer(10000)\n",
        "\n",
        "# Get back into epsg:4326 once our buffer zone is defined\n",
        "buff4326 = buff_zone.to_crs('epsg:4326')\n",
        "buff4326 = buff4326[['geometry']]\n",
        "\n",
        "# Keep water wells informations located inside this studied area\n",
        "geo_ww = gpd.sjoin(geo_ww, buff4326, op='within')\n",
        "\n",
        "# Keep the columns we want:\n",
        "geo_ww = geo_ww[['ID_BSS', 'code_bss', 'z_sol', 'z_bdalti','prof_investigation',\n",
        "                 'prof_eau_sol', 'geometry']]\n",
        "\n",
        "# Plot the result\n",
        "fig, ax = plt.subplots(figsize=(10,10))\n",
        "ax.set_xlim((min(geo_ww['geometry'].x), max(geo_ww['geometry'].x)))\n",
        "ax.set_ylim((min(geo_ww['geometry'].y), max(geo_ww['geometry'].y)))\n",
        "\n",
        "# We plot our deps of interest with the Pastel 1 colormap\n",
        "dep.plot(ax = ax, column = 'num', cmap = 'Pastel1', alpha = 0.75)\n",
        "\n",
        "# We add the location of borehole with water level in blue\n",
        "geo_ww.plot(ax =ax, color = 'blue', markersize=1, label = 'Borehole with a groundwater table level')\n",
        "\n",
        "# We add the location of geothermal installations in red\n",
        "geoth_points.plot(ax =ax, color = 'red', markersize=5, label = 'Geothermal installation')\n",
        "\n",
        "# We add our city of interest\n",
        "ax.scatter(site_lon, site_lat, color = 'orange', marker = 'o', s=100, label = 'Point of interest')\n",
        "\n",
        "plt.legend()\n",
        "plt.show()\n"
      ]
    },
    {
      "cell_type": "markdown",
      "metadata": {
        "id": "sgkK_TlEUO86"
      },
      "source": [
        "We describe data inside our geodataframe:"
      ]
    },
    {
      "cell_type": "code",
      "execution_count": null,
      "metadata": {
        "colab": {
          "base_uri": "https://localhost:8080/",
          "height": 300
        },
        "id": "bZ3_Fy_jUO86",
        "outputId": "d6eae115-db38-4d75-a09d-aff9ff2807b3"
      },
      "outputs": [],
      "source": [
        "# First we convert all interesting fields to numeric values\n",
        "for col in ['z_sol', 'z_bdalti', 'prof_investigation', 'prof_eau_sol']:\n",
        "    geo_ww[col] = pd.to_numeric(geo_ww[col])\n",
        "\n",
        "# Then we can describe our geodataframe\n",
        "geo_ww.describe()\n"
      ]
    },
    {
      "cell_type": "markdown",
      "metadata": {
        "id": "0Xef0IxuUO86"
      },
      "source": [
        "The result shows some errors regarding the ground elevation (-999 value). Consequently, let's remove data outside first and last percentiles:"
      ]
    },
    {
      "cell_type": "code",
      "execution_count": null,
      "metadata": {
        "colab": {
          "base_uri": "https://localhost:8080/",
          "height": 300
        },
        "id": "byvHSsAcUO86",
        "outputId": "ad123fc8-3fb7-4c6b-afed-699995da3a68"
      },
      "outputs": [],
      "source": [
        "#Select rows inside the range we want.\n",
        "geo_ww = geo_ww[(geo_ww.z_sol > geo_ww.z_sol.quantile(0.01)) &\n",
        "                (geo_ww.z_sol < geo_ww.z_sol.quantile(0.99))]\n",
        "\n",
        "# Describe our new geodataframe.\n",
        "geo_ww.describe()\n"
      ]
    },
    {
      "cell_type": "markdown",
      "metadata": {
        "id": "ysb6QNzrUO87"
      },
      "source": [
        "Now, we define the groundwater table elevation as the ground elevation minus the groundwater table depth. Because we have two different possibility to choose the ground elevation from the IGN *z_bdalti*. In addition, we can consider that in our area of interest we focus on the shallow aquifer where groundwater is flowing in the modern alluvial deposit. Consequently, let's focus on an investigation depth ranging from 10m to 30m:"
      ]
    },
    {
      "cell_type": "code",
      "execution_count": null,
      "metadata": {
        "colab": {
          "base_uri": "https://localhost:8080/",
          "height": 488
        },
        "id": "2ri5w2pqUO87",
        "outputId": "c0177324-6d12-450a-a470-3ac849a71c28"
      },
      "outputs": [],
      "source": [
        "# Calculate the groundwater table elevation\n",
        "geo_ww.loc[:, 'WT_elevation'] = geo_ww['z_bdalti'] - geo_ww['prof_eau_sol'] \n",
        "\n",
        "# Select wells with a relevant depth:\n",
        "geo_ww = geo_ww[(geo_ww.prof_investigation >= 10) &\n",
        "                (geo_ww.prof_investigation <= 30)]\n",
        "\n",
        "# Remove nan values\n",
        "geo_ww = geo_ww.dropna()\n",
        "\n",
        "# We can now have a overview of different features of our dataset:\n",
        "geo_ww[['prof_investigation', 'z_bdalti', 'WT_elevation']].hist()\n",
        "#plt.tight_layout()\n",
        "plt.show()\n"
      ]
    },
    {
      "cell_type": "markdown",
      "metadata": {
        "id": "7su0DzXKHKNl"
      },
      "source": [
        "Then, groundwater table elevation values can be displayed as follow:"
      ]
    },
    {
      "cell_type": "code",
      "execution_count": null,
      "metadata": {
        "colab": {
          "base_uri": "https://localhost:8080/",
          "height": 498
        },
        "id": "6KtBu1taUO87",
        "outputId": "55da191d-b600-43f0-cff7-52644819484d"
      },
      "outputs": [],
      "source": [
        "from mpl_toolkits.axes_grid1 import make_axes_locatable\n",
        "\n",
        "# Plot the result.\n",
        "fig, ax = plt.subplots(figsize=(10,8))\n",
        "\n",
        "ax.set_xlim((min(geo_ww['geometry'].x), max(geo_ww['geometry'].x)))\n",
        "ax.set_ylim((min(geo_ww['geometry'].y), max(geo_ww['geometry'].y)))\n",
        "\n",
        "# Plot our deps of interest with the Pastel 1 colormap.\n",
        "dep.plot(ax = ax, column = \"num\", cmap = \"Pastel1\", alpha = 0.75)\n",
        "\n",
        "vmin = geo_ww['WT_elevation'].quantile(0.1)\n",
        "vmax = geo_ww['WT_elevation'].quantile(0.9)\n",
        "\n",
        "# Add the location of borehole with water level in blue.\n",
        "geo_ww.plot(ax = ax, cmap = 'viridis_r',\n",
        "            column = 'WT_elevation',\n",
        "            markersize=10, \n",
        "            vmin = vmin,\n",
        "            vmax = vmax,\n",
        "            legend = True,\n",
        "            legend_kwds={'label': 'elevation [m a.s.l]'})\n",
        "\n",
        "ax.set_title('Groundwater table elevation')\n",
        "plt.show()\n"
      ]
    },
    {
      "cell_type": "markdown",
      "metadata": {
        "id": "aCatMmD8UO87"
      },
      "source": [
        "## Interactive mapping with folium"
      ]
    },
    {
      "cell_type": "markdown",
      "metadata": {
        "id": "Qts-DWh_UO87"
      },
      "source": [
        "The information above can easily be projected on an interactive map using the *folium* library. Additionally, it is interesting to do so because it can help us to understand the relation with geological units.\n",
        "\n",
        "In fact, since a few years, geological tiles are available across France and can be projected and visualized using *folium*. All WMF/WFS services provided by the BRGM are listed in a table at [this page](http://geoservices.brgm.fr). It is indicated that the geological map can be visualized using the following URL *http://geoservices.brgm.fr/geologie*, and the following layer *GEOLOGIE*. We directly use these inputs to define our WMS tile layer (see below in the script).\n",
        "\n",
        "Then we can build our map using *folium*:"
      ]
    },
    {
      "cell_type": "code",
      "execution_count": null,
      "metadata": {
        "colab": {
          "base_uri": "https://localhost:8080/",
          "height": 1000
        },
        "id": "JWkStAgvUO87",
        "outputId": "03972f8b-aef6-465c-9435-625ce1595648"
      },
      "outputs": [],
      "source": [
        "# Import the folium library.\n",
        "import folium\n",
        "\n",
        "# Import branca.colormap to give pretty colors to our points according to groundwater table elevation.\n",
        "import branca.colormap as cm\n",
        "\n",
        "# We build our map focusing on our site and specifying the zoom start\n",
        "mymap = folium.Map(location=[site_lat, site_lon], \n",
        "                   zoom_start=12,\n",
        "                   control_scale = True)\n",
        "\n",
        "# Add the geological map of France\n",
        "url = 'http://geoservices.brgm.fr/geologie'\n",
        "layer1 = 'GEOLOGIE'\n",
        "folium.WmsTileLayer(url, layer1, attr = 'BRGM', name = 'toto').add_to(mymap)\n",
        "#folium.TileLayer('http://geoservices.brgm.fr/geologie/GEOLOGIE', attr = 'BRGM', name = 'toto').add_to(mymap)\n",
        "\n",
        "# Add a feature group to add borehole with groundwater table elevation\n",
        "fg_gwt = folium.FeatureGroup(name = 'Groundwater table elevation')\n",
        "mymap.add_child(fg_gwt)\n",
        "\n",
        "colormap = cm.LinearColormap(colors = ['orange', 'yellow', 'green', 'lightblue', 'blue'], \n",
        "                             index = [geo_ww[\"WT_elevation\"].quantile(0.1),\n",
        "                                    geo_ww[\"WT_elevation\"].quantile(0.25),\n",
        "                                    geo_ww[\"WT_elevation\"].quantile(0.5),\n",
        "                                    geo_ww[\"WT_elevation\"].quantile(0.75),\n",
        "                                    geo_ww[\"WT_elevation\"].quantile(0.9)], \n",
        "                             vmin = geo_ww[\"WT_elevation\"].quantile(0.1),\n",
        "                             vmax = geo_ww[\"WT_elevation\"].quantile(0.9))\n",
        "\n",
        "# Add the caption of our colormap\n",
        "colormap.caption = 'Groundwater table elevation [m asl]'\n",
        "\n",
        "# Give an explicit description of longitude and latitude of our points:\n",
        "geo_ww['lon'] = geo_ww['geometry'].x\n",
        "geo_ww['lat'] = geo_ww['geometry'].y\n",
        "\n",
        "# We add all points of our dataset\n",
        "for i, h in zip(geo_ww.index.values, geo_ww.WT_elevation.values):\n",
        "    dfi = folium.CircleMarker(\n",
        "        location = [geo_ww.at[i,'lat'], geo_ww.at[i,'lon']],\n",
        "        popup =str(round(h,2)) + ' m asl',\n",
        "        radius= 7,\n",
        "        fill=True,\n",
        "        fill_opacity=0.7,\n",
        "        color = colormap(h),\n",
        "        fill_color = colormap(h))\n",
        "    dfi.add_to(fg_gwt)\n",
        "\n",
        "mymap.add_child(colormap)\n",
        "mymap.add_child(folium.map.LayerControl(collapsed=True))\n"
      ]
    },
    {
      "cell_type": "markdown",
      "metadata": {
        "id": "lFhG0J4OUO87"
      },
      "source": [
        "Of couse we can save this map in *html* and open it later with any navigator:"
      ]
    },
    {
      "cell_type": "code",
      "execution_count": null,
      "metadata": {
        "id": "SGBddpX2UO87"
      },
      "outputs": [],
      "source": [
        "mymap.save(\"my_Python_for_Geosciences_map.html\")\n"
      ]
    },
    {
      "cell_type": "markdown",
      "metadata": {
        "id": "Kf_7efq9UO87"
      },
      "source": [
        "## Access to hydraulic head monitoring data\n",
        "\n",
        "Since a couple of years, several APIs dedicated to water management have been developed on a national platform called [Hubeau](https://hubeau.eaufrance.fr/page/apis). Some of these APIs are dedicated to hydrobiology and surface water monitoring, and others to quantitative and qualitative description of groundwater.\n",
        "\n",
        "The principle is quite easy: you provide the API of your choice with (1) one or several borehole identifiers, (2) a period of interest, (3) some parameters of interest (piezometric level, temperature, etc.) and you get back a dictionary with all information.\n",
        "\n",
        "First the procedure to describe the hydraulic head fluctuation at a given borehole will be described. Secondly, we will focus on how to find all recording stations around a area of interest, for a given period of time.\n",
        "\n",
        "### Getting hydraulic head fluctuations\n",
        "\n",
        "Let's see how the groundwater piezometric API works. We first need to define one borehole identifier *code_bss*, and a period of interest:"
      ]
    },
    {
      "cell_type": "code",
      "execution_count": null,
      "metadata": {
        "id": "zeYGaZAqUO87"
      },
      "outputs": [],
      "source": [
        "# Definition of an identifier:\n",
        "mycode = \"06987A0186/S\"\n",
        "\n",
        "# Definition of a period of interest:\n",
        "mydate_i = \"2015-01-01\" #year/month/day\n",
        "mydate_f = \"2020-12-31\" #year/month/day\n"
      ]
    },
    {
      "cell_type": "markdown",
      "metadata": {
        "id": "b-Aioa3MUO87"
      },
      "source": [
        "To query the API, we need to build an URL which depends on previous parameters. I give the function below providing you the appropriate URL:"
      ]
    },
    {
      "cell_type": "code",
      "execution_count": null,
      "metadata": {
        "id": "e7pftcbZUO87"
      },
      "outputs": [],
      "source": [
        "def getHubeauURL_piezo(code_bss, date_i, date_f):\n",
        "    url_root = \"https://hubeau.eaufrance.fr/api/v1/niveaux_nappes/chroniques?\"\n",
        "    url_code = \"code_bss=\" + code_bss.replace(\"/\",\"%2F\")\n",
        "    url_date = \"&date_debut_mesure=\" + date_i + \"&date_fin_mesure=\" + date_f\n",
        "    url_tail = \"&size=20000&sort=asc\"\n",
        "    return url_root + url_code + url_date + url_tail\n"
      ]
    },
    {
      "cell_type": "markdown",
      "metadata": {
        "id": "E9sIwluPUO87"
      },
      "source": [
        "We can now call this function as follow:"
      ]
    },
    {
      "cell_type": "code",
      "execution_count": null,
      "metadata": {
        "colab": {
          "base_uri": "https://localhost:8080/"
        },
        "id": "sbhQ-sORUO87",
        "outputId": "0167e8b5-5c24-416b-d1d6-d2e0bb039193"
      },
      "outputs": [],
      "source": [
        "myurl = getHubeauURL_piezo(mycode, mydate_i, mydate_f)\n",
        "\n",
        "print(myurl)\n"
      ]
    },
    {
      "cell_type": "markdown",
      "metadata": {
        "id": "6lCFce3XUO87"
      },
      "source": [
        "We can now make our query using the <code>resquests.get</code> function:"
      ]
    },
    {
      "cell_type": "code",
      "execution_count": null,
      "metadata": {
        "colab": {
          "base_uri": "https://localhost:8080/"
        },
        "id": "1koaPrWfUO87",
        "outputId": "52d702be-0a77-4672-e228-e59fc2a8e979"
      },
      "outputs": [],
      "source": [
        "# We get the content of the webpage\n",
        "r = requests.get(myurl)\n",
        "\n",
        "# The server response:\n",
        "print(r)\n"
      ]
    },
    {
      "cell_type": "markdown",
      "metadata": {
        "id": "dgWvOxXmUO87"
      },
      "source": [
        "The code '200' means that our query is successful (the code is valid and there are some data available). We now organize the result (using the *json* method) and print the content of the webpage using the following procedure:"
      ]
    },
    {
      "cell_type": "code",
      "execution_count": null,
      "metadata": {
        "id": "Euac5skIUO87"
      },
      "outputs": [],
      "source": [
        "# Organize the content into a json dictionnary.\n",
        "res = r.json()\n",
        "\n",
        "# Print the result.\n",
        "res\n"
      ]
    },
    {
      "cell_type": "markdown",
      "metadata": {
        "id": "4OxPgLliUO88"
      },
      "source": [
        "The resulting content is a dictionary organized according to the date of measurements. We now need to define a function to extract the information we want in this dictionary. The first key of this dictionary gives us a *count* of all measurements over our period of interest. All piezometric values are stored in a *data* sub-dictionary. Let's see on the first element of the *data* dictionary:"
      ]
    },
    {
      "cell_type": "code",
      "execution_count": null,
      "metadata": {
        "colab": {
          "base_uri": "https://localhost:8080/"
        },
        "id": "Q8WRHuNuUO88",
        "outputId": "fa9178fd-ec66-4925-e7d7-ff4839491bc6"
      },
      "outputs": [],
      "source": [
        "res['data'][0]\n"
      ]
    },
    {
      "cell_type": "markdown",
      "metadata": {
        "id": "eRYK0rYgUO88"
      },
      "source": [
        "We have here a new dictionary with the ID of our borehole, the date of the measurement (*date_mesure*), the associated timestamp (*timestamp_mesure*), the hydraulic head measured (*niveau_nappe_eau*) and other information.\n",
        "\n",
        "We can make a function to convert this dictionary into a dataframe keeping only relevant features as follow: "
      ]
    },
    {
      "cell_type": "code",
      "execution_count": null,
      "metadata": {
        "colab": {
          "base_uri": "https://localhost:8080/",
          "height": 237
        },
        "id": "smj2vRMZUO88",
        "outputId": "e74117b3-9c44-4114-cc9e-91613a79b2ad"
      },
      "outputs": [],
      "source": [
        "def piezoDico_to_pandas_df(res):\n",
        "    # We convert the data into a dataframe\n",
        "    df = pd.DataFrame.from_dict(res[\"data\"])\n",
        "\n",
        "    # We only keep relevant columns\n",
        "    df = df[['date_mesure', 'niveau_nappe_eau']]\n",
        "\n",
        "    # We rename columns\n",
        "    df = df.rename(columns = {'date_mesure':'date',\n",
        "                    'niveau_nappe_eau': 'hydraulic_head'})\n",
        "\n",
        "    # We make sure that the hydraulic head is numeric\n",
        "    df['hydraulic_head'] = pd.to_numeric(df['hydraulic_head'])\n",
        "\n",
        "    # We convert the date as a datetime format and we define it as index\n",
        "    df['date'] = pd.to_datetime(df['date'], format =  \"%Y-%m-%d\")\n",
        "    df = df.set_index(\"date\").to_period('d')\n",
        "    return df\n",
        "\n",
        "df = piezoDico_to_pandas_df(res)\n",
        "df.head()\n"
      ]
    },
    {
      "cell_type": "markdown",
      "metadata": {
        "id": "da4DwYIKUO88"
      },
      "source": [
        "We can finally plot the hydraulic head fluctuation:"
      ]
    },
    {
      "cell_type": "code",
      "execution_count": null,
      "metadata": {
        "colab": {
          "base_uri": "https://localhost:8080/",
          "height": 340
        },
        "id": "IwELVob0UO88",
        "outputId": "463a6919-59e9-4163-ccd6-938f3505b666"
      },
      "outputs": [],
      "source": [
        "fig, ax = plt.subplots(figsize=(10,5))\n",
        "plt.rcParams.update({'font.size': 12})\n",
        "\n",
        "ax.set_title('Hydraulic head fluctuation at ' + mycode)\n",
        "\n",
        "# Plot the mean hydraulic head over the period\n",
        "df['hydraulic_head'].plot(ax = ax, \n",
        "              marker='o', \n",
        "              alpha=0.5,\n",
        "              linestyle='--')\n",
        "\n",
        "ax.set_ylabel('Hydraulic head (m)')\n",
        "ax.set_xlabel('')\n",
        "\n",
        "plt.legend()\n",
        "plt.show()\n"
      ]
    },
    {
      "cell_type": "markdown",
      "metadata": {
        "id": "XQngLTEsUO88"
      },
      "source": [
        "### Finding piezometric monitoring stations around a location of interest\n",
        "\n",
        "A procedure exists to find all stations with hydraulic head records around a location of interest. What you need is to define the longitude and latitude coordinates of a rectangle area. Let's take the smallest rectangle including our previous circular buffer zone:"
      ]
    },
    {
      "cell_type": "code",
      "execution_count": null,
      "metadata": {
        "colab": {
          "base_uri": "https://localhost:8080/"
        },
        "id": "z_hk-l7iUO88",
        "outputId": "3a8d6b3f-0715-4742-a963-1a4e3d46fd5c"
      },
      "outputs": [],
      "source": [
        "# Define our rectangle of interest.\n",
        "rect = gpd.GeoDataFrame(geometry = buff4326.envelope)\n",
        "\n",
        "# Stack the coordinates into a list:\n",
        "pnts = np.dstack(rect.at[0, 'geometry'].boundary.xy)\n",
        "pnts\n"
      ]
    },
    {
      "cell_type": "markdown",
      "metadata": {
        "id": "IZltB-tYUO88"
      },
      "source": [
        "To make our query, we only need the lower left and top right corners coordinates:"
      ]
    },
    {
      "cell_type": "code",
      "execution_count": null,
      "metadata": {
        "id": "HN8gI_eiUO88"
      },
      "outputs": [],
      "source": [
        "llc = pnts[0][0]\n",
        "trc = pnts[0][2]\n"
      ]
    },
    {
      "cell_type": "markdown",
      "metadata": {
        "id": "bVhd4MJiUO88"
      },
      "source": [
        "We then need to make a new function to produce the URL and another one to organize the result in a pandas dataframe:"
      ]
    },
    {
      "cell_type": "code",
      "execution_count": null,
      "metadata": {
        "id": "4UbmgfSjUO88"
      },
      "outputs": [],
      "source": [
        "def getHubeauURLstations(param, date_research, bbox):\n",
        "    \"\"\"\n",
        "    The aim of this function is to return the URL giving us available stations\n",
        "    depending on:\n",
        "    - param (str): the type of data we are looking for: param = \"piezo\" or \"quality\"\n",
        "    - date_research (str): the date around when we want data ex. = \"2020-01-01\"\n",
        "    - bbox: the area of research (list of two points coordinates). The fist element of the fist\n",
        "    regroups coordinates of the lower left corner and the second element the top right corner.\n",
        "    the function returns a URL\n",
        "    \"\"\"\n",
        "    #param is \"piezo\" or \"quality\"\n",
        "    if param == \"piezo\":\n",
        "        url_root = \"https://hubeau.eaufrance.fr/api/v1/niveaux_nappes/stations?\"\n",
        "    elif param == \"quality\":\n",
        "        url_root = \"https://hubeau.eaufrance.fr/api/v1/qualite_nappes/stations?\"\n",
        "    else:\n",
        "        return print(\"error with param\")\n",
        "\n",
        "    llc = bbox[0]\n",
        "    trc = bbox[1]\n",
        "        \n",
        "    llc_x, llc_y = str(round(llc[0],4)), str(round(llc[1],4))\n",
        "    trc_x, trc_y = str(round(trc[0],4)), str(round(trc[1],4))\n",
        "    \n",
        "    url_bbox = \"bbox=\" + llc_x + \"%2C\" + llc_y + \"%2C\" + trc_x + \"%2C\" + trc_y\n",
        "    url_date = \"&date_recherche=\" + date_research\n",
        "    url_tail = \"&format=json&size=20000\"\n",
        "    return url_root + url_bbox + url_date + url_tail\n",
        "\n",
        "def StationsToDF(url):\n",
        "    \"\"\"\n",
        "    The aim of this function is to organize the data of the resquested stations\n",
        "    into a pandas df.\n",
        "    The function takes an URL as input (str) and returns a pandas df\n",
        "    \"\"\"\n",
        "    # We get the content of the webpage\n",
        "    r = requests.get(url)\n",
        "    # We organize the content into a json dictionnary\n",
        "    res = r.json()\n",
        "    # We convert the data into a dataframe\n",
        "    df = pd.DataFrame.from_dict(res[\"data\"])\n",
        "    return df\n"
      ]
    },
    {
      "cell_type": "markdown",
      "metadata": {
        "id": "PFrZQThZUO88"
      },
      "source": [
        "We run this function to sew how many piezometric stations are working/recording at a given date: the 1st of january 2020."
      ]
    },
    {
      "cell_type": "code",
      "execution_count": null,
      "metadata": {
        "colab": {
          "base_uri": "https://localhost:8080/",
          "height": 1000
        },
        "id": "3fK85z9YUO88",
        "outputId": "9fb2ce66-b413-4bc6-b6f4-e66cfdc5190d"
      },
      "outputs": [],
      "source": [
        "new_url = getHubeauURLstations(\"piezo\", \"2020-01-01\", [llc, trc])\n",
        "stations = StationsToDF(new_url)\n",
        "\n",
        "stations = stations.set_index(\"code_bss\")\n",
        "stations\n"
      ]
    },
    {
      "cell_type": "markdown",
      "metadata": {
        "id": "TNJ72ykOUO88"
      },
      "source": [
        "We can of course display the location of these active stations on an interactive folium map:"
      ]
    },
    {
      "cell_type": "code",
      "execution_count": null,
      "metadata": {
        "colab": {
          "base_uri": "https://localhost:8080/",
          "height": 1000
        },
        "id": "hl12L0mqUO88",
        "outputId": "de0b93a0-4906-4764-945c-b88d7424f5ff"
      },
      "outputs": [],
      "source": [
        "# Import the folium library\n",
        "import folium\n",
        "\n",
        "# We build our map focusing on our site and specifying the zoom start\n",
        "mymap = folium.Map(location=[site_lat, site_lon], \n",
        "                   zoom_start=11,\n",
        "                   show=True, control_scale = True,\n",
        "                   width = 400)\n",
        "\n",
        "# Add the geological map of France\n",
        "url = 'http://geoservices.brgm.fr/geologie'\n",
        "layer1 = 'GEOLOGIE'\n",
        "folium.WmsTileLayer(url, layer1, attr = 'BRGM', name = 'Geological map', show=True).add_to(mymap)\n",
        "\n",
        "# Add a feature group to add borehole with active piezometric stations\n",
        "fg_pz = folium.FeatureGroup(name = 'Active piezometric stations', show = True)\n",
        "mymap.add_child(fg_pz)\n",
        "\n",
        "# We add all points of our dataset\n",
        "for code_bss in stations.index.values:\n",
        "    pzi = folium.Marker(\n",
        "        location = [stations.at[code_bss,'y'], stations.at[code_bss,'x']],\n",
        "        popup = str(code_bss))\n",
        "    pzi.add_to(fg_pz)\n",
        "\n",
        "mymap.add_child(folium.map.LayerControl(collapsed=True))\n"
      ]
    },
    {
      "cell_type": "markdown",
      "metadata": {
        "id": "IlkMZjkkqx0_"
      },
      "source": [
        "### Getting hydraulic head fluctuations\n",
        "\n",
        "Now, we can plot the piezometric levels of these stations over the similar period of interest that we defined earlier."
      ]
    },
    {
      "cell_type": "code",
      "execution_count": null,
      "metadata": {
        "colab": {
          "base_uri": "https://localhost:8080/",
          "height": 322
        },
        "id": "k-P4joyyUO88",
        "outputId": "4afe99ca-2486-4f9e-cc2c-68bf86689ec5"
      },
      "outputs": [],
      "source": [
        "# Definition of a period of interest:\n",
        "mydate_i = \"2015-01-01\" #year/month/day\n",
        "mydate_f = \"2020-01-01\" #year/month/day\n",
        "\n",
        "fig, ax = plt.subplots(figsize=(7,5))\n",
        "plt.rcParams.update({'font.size': 12})\n",
        "\n",
        "for code in stations.index:\n",
        "    myurl = getHubeauURL_piezo(code, mydate_i, mydate_f)\n",
        "    r = requests.get(myurl)\n",
        "    res = r.json()\n",
        "    df = piezoDico_to_pandas_df(res)\n",
        "    \n",
        "\n",
        "    # We plot the mean hydraulic head over the period\n",
        "    df['hydraulic_head'].plot(ax = ax, \n",
        "                  marker='o', \n",
        "                  alpha=0.5,\n",
        "                  linestyle='--',\n",
        "                  label = code)\n",
        "\n",
        "ax.set_ylabel('Hydraulic head (m)')\n",
        "ax.set_xlabel('')\n",
        "\n",
        "plt.legend()\n",
        "plt.show()\n"
      ]
    },
    {
      "cell_type": "markdown",
      "metadata": {
        "id": "RSUPZGhuUO88"
      },
      "source": [
        "## Access to physico-chemical parameters\n",
        "\n",
        "Similarly, we can make some queries to observe the fluctuation of some physico-chemical parameters such as groundwater temperature, nitrates concentrations, pesticides... many other parameters are availble.\n",
        "\n",
        "### Exploration of accessible physico-chemical parameters\n",
        "\n",
        "Since 1992, the French producers of public water data have engaged a consistency process for their data in the framework of the French water information system. Consequently, all groundwater quality parameters are associated to a number in a referential SANDRE.\n",
        "\n",
        "This referential can be download below. We can see that 1845 parameters are available."
      ]
    },
    {
      "cell_type": "code",
      "execution_count": null,
      "metadata": {
        "colab": {
          "base_uri": "https://localhost:8080/",
          "height": 423
        },
        "id": "_5ngET3uUO89",
        "outputId": "dbf2ae92-b30a-466e-b4ff-4182d8d4e9a9"
      },
      "outputs": [],
      "source": [
        "url_root= \"http://www.sandre.eaufrance.fr/sites/default/files/document-sandre/\"\n",
        "file = \"correspondance_par_sise_sandre_18092018.xls\"\n",
        "url = url_root + file\n",
        "\n",
        "r = requests.get(url)\n",
        "\n",
        "open(file, 'wb').write(r.content)\n",
        "sandre = pd.ExcelFile(file).parse(0)\n",
        "new_header = sandre.iloc[0]\n",
        "sandre = sandre[1:]\n",
        "sandre.columns = new_header\n",
        "sandre = sandre[['Nom_famille_sise', 'nom_parametre_sise', 'code_parametre_sandre']]\n",
        "\n",
        "sandre\n"
      ]
    },
    {
      "cell_type": "markdown",
      "metadata": {
        "id": "p-mOQM9LUO89"
      },
      "source": [
        "We could explore all accessible parameters, but in this tutorial, we focus on two of them:\n",
        "- temperature with the code '1301',\n",
        "- nitrates concentration with the code '1340'.\n",
        "\n",
        "It can be checked by printing the appropriate lines of the dataframe:"
      ]
    },
    {
      "cell_type": "code",
      "execution_count": null,
      "metadata": {
        "colab": {
          "base_uri": "https://localhost:8080/",
          "height": 112
        },
        "id": "um3rtpPAUO89",
        "outputId": "629b0713-affe-4c75-dbde-907e8591d6a1"
      },
      "outputs": [],
      "source": [
        "sandre.loc[(sandre.code_parametre_sandre == 1301) |\n",
        "           (sandre.code_parametre_sandre == 1340)]\n"
      ]
    },
    {
      "cell_type": "markdown",
      "metadata": {
        "id": "SIjTXWdYUO89"
      },
      "source": [
        "The information about these parameters (units, etc.) are described in the following webpages (in french):\n",
        "- [Nitrates - SANDRE](http://www.sandre.eaufrance.fr/urn.php?urn=urn:sandre:donnees:PAR:FRA:code:1340:::referentiel:2:html)\n",
        "- [Temperature - SANDRE](http://www.sandre.eaufrance.fr/urn.php?urn=urn:sandre:donnees:PAR:FRA:code:1301:::referentiel:2:html)\n",
        "\n",
        "You can easly access and get the information about the parameter you want by using the following function depending on the parameter code:"
      ]
    },
    {
      "cell_type": "code",
      "execution_count": null,
      "metadata": {
        "colab": {
          "base_uri": "https://localhost:8080/"
        },
        "id": "P7IkEmn_UO89",
        "outputId": "019e4dbd-5087-4610-f7fe-ffecb5bb3449"
      },
      "outputs": [],
      "source": [
        "def getSandreURL(code_param):\n",
        "    \"\"\"\n",
        "    This function prints the SANDRE information associated to the code (input)\n",
        "    \"\"\"\n",
        "    url_head = \"http://www.sandre.eaufrance.fr/urn.php?urn=urn:sandre:donnees:PAR:FRA:code:\"\n",
        "    code_param = str(code_param)\n",
        "    url_tail = \":::referentiel:2:html\"\n",
        "    url = url_head + code_param + url_tail\n",
        "    print(url)\n",
        "    \n",
        "# Example:\n",
        "getSandreURL(1301)\n"
      ]
    },
    {
      "cell_type": "markdown",
      "metadata": {
        "id": "YhlLid5tUO89"
      },
      "source": [
        "These codes must be specified when making queries with the different APIs.\n",
        "\n",
        "### Finding quality monitoring stations around a location of interest\n",
        "\n",
        "First, we find some quality monitoring stations around our location of interest by using the function defined earlier:"
      ]
    },
    {
      "cell_type": "code",
      "execution_count": null,
      "metadata": {
        "colab": {
          "base_uri": "https://localhost:8080/",
          "height": 705
        },
        "id": "F39XRs4jUO89",
        "outputId": "eea07b73-11b5-430b-b5f6-df998ce94ed1"
      },
      "outputs": [],
      "source": [
        "q_url = getHubeauURLstations(\"quality\", \"2020-01-01\", [llc, trc])\n",
        "q_stations = StationsToDF(q_url)\n",
        "q_stations.head()\n"
      ]
    },
    {
      "cell_type": "markdown",
      "metadata": {
        "id": "5Al3T1DWUO89"
      },
      "source": [
        "We see that there are 471 stations. However, the dates are not necessarily matching our query (it is probably an issue that will be solved in a future version of the API). To refine our selection on our period of interest we convert all date features in datetimes format and compare with our datetimes of interest:"
      ]
    },
    {
      "cell_type": "code",
      "execution_count": null,
      "metadata": {
        "colab": {
          "base_uri": "https://localhost:8080/",
          "height": 736
        },
        "id": "TQu_mPj4UO89",
        "outputId": "84ea4db0-778a-4d76-9795-d9f98de9352b"
      },
      "outputs": [],
      "source": [
        "from datetime import datetime\n",
        "\n",
        "q_stations['date_debut_mesure'] = pd.to_datetime(q_stations['date_debut_mesure'], format =  \"%Y-%m-%d\")\n",
        "q_stations['date_fin_mesure'] = pd.to_datetime(q_stations['date_fin_mesure'], format =  \"%Y-%m-%d\")\n",
        "\n",
        "datetime_i = datetime.strptime(mydate_i, \"%Y-%m-%d\")\n",
        "datetime_f = datetime.strptime(mydate_f, \"%Y-%m-%d\")\n",
        "\n",
        "q_stations = q_stations.loc[(q_stations['date_debut_mesure'] <= datetime_i) &\n",
        "                            (q_stations['date_fin_mesure'] >= datetime_f)]\n",
        "\n",
        "q_stations = q_stations.set_index(\"code_bss\")\n",
        "q_stations.head()       \n"
      ]
    },
    {
      "cell_type": "markdown",
      "metadata": {
        "id": "iIEWsAToUO89"
      },
      "source": [
        "We have finally 7 active stations and we can add them (red color) to our interactive map:"
      ]
    },
    {
      "cell_type": "code",
      "execution_count": null,
      "metadata": {
        "colab": {
          "base_uri": "https://localhost:8080/",
          "height": 1000
        },
        "id": "IP-n1HrhUO89",
        "outputId": "6214da46-c471-445d-ddd9-cde84da551da"
      },
      "outputs": [],
      "source": [
        "# We build our map focusing on our site and specifying the zoom start\n",
        "mymap = folium.Map(location=[site_lat, site_lon], \n",
        "                   zoom_start=11,\n",
        "                   show=True, control_scale = True,\n",
        "                   width = 400)\n",
        "\n",
        "# Add the geological map of France\n",
        "url = 'http://geoservices.brgm.fr/geologie'\n",
        "layer1 = 'GEOLOGIE'\n",
        "folium.WmsTileLayer(url, layer1, attr = 'BRGM', name = 'Geological map', show=True).add_to(mymap)\n",
        "\n",
        "# Add a feature group to add borehole with active quality stations\n",
        "fg_quality = folium.FeatureGroup(name = 'Active groundwater quality stations', show = True)\n",
        "mymap.add_child(fg_quality)\n",
        "\n",
        "# We add all points of our quality dataset\n",
        "for code_bss in q_stations.index.values:\n",
        "    qi = folium.Marker(\n",
        "        location = [q_stations.at[code_bss,'latitude'], q_stations.at[code_bss,'longitude']],\n",
        "        popup = str(code_bss),\n",
        "        icon=folium.Icon(color='red', icon='info-sign'))\n",
        "    qi.add_to(fg_quality)\n",
        "    \n",
        "# Add a feature group to add borehole with active piezometric stations\n",
        "fg_pz = folium.FeatureGroup(name = 'Active piezometric stations', show = True)\n",
        "mymap.add_child(fg_pz)\n",
        "\n",
        "# We add all points of our dataset\n",
        "for code_bss in stations.index.values:\n",
        "    pzi = folium.Marker(\n",
        "        location = [stations.at[code_bss,'y'], stations.at[code_bss,'x']],\n",
        "        popup = str(code_bss))\n",
        "    pzi.add_to(fg_pz)\n",
        "\n",
        "mymap.add_child(folium.map.LayerControl(collapsed=True))\n"
      ]
    },
    {
      "cell_type": "markdown",
      "metadata": {
        "id": "Z9VDfnPKUO89"
      },
      "source": [
        "### Getting groundwater temperature and nitrates concentration fluctuations\n",
        "\n",
        "We first need to define one borehole identifier *code_bss*, a period of interest and the code of parameters we want to explore (temperature and nitrates in our example):"
      ]
    },
    {
      "cell_type": "code",
      "execution_count": null,
      "metadata": {
        "id": "ahtIhg8dUO89"
      },
      "outputs": [],
      "source": [
        "# Definition of an identifier:\n",
        "code_ex = \"08036X1858/F2\"\n",
        "\n",
        "# Definition of a period of interest:\n",
        "date_initial_ex = \"2017-01-01\" #year/month/day\n",
        "date_final_ex = \"2019-12-31\" #year/month/day\n",
        "\n",
        "params_ex = [1301, 1340] #our parameters in a list\n"
      ]
    },
    {
      "cell_type": "markdown",
      "metadata": {
        "id": "8Uo93VqqUO89"
      },
      "source": [
        "To query the API, we need to build an URL which depends on previous parameters. I give the function below providing you the appropriate URL depending on the period and the parameters we want:"
      ]
    },
    {
      "cell_type": "code",
      "execution_count": null,
      "metadata": {
        "id": "1AC0jPIlUO89"
      },
      "outputs": [],
      "source": [
        "def getHubeauURLquality(code, date_initial, date_final, params):\n",
        "    \"\"\"\n",
        "    this function return the url needed to get the required parameters\n",
        "    of the borehole code\n",
        "    \"\"\"\n",
        "    url_head = \"https://hubeau.eaufrance.fr/api/v1/qualite_nappes/analyses?\"\n",
        "    url_code = \"bss_id=\" + str(code).replace(\"/\",\"%2F\")\n",
        "    url_params = \"&code_param=\" \n",
        "    for par in params:\n",
        "        url_params += str(par) + \"%2C%20\"\n",
        "        \n",
        "    url_params = url_params[:-6]\n",
        "    url_date = \"&date_debut_prelevement=\" + date_initial + \"&date_fin_prelevement=\" + date_final\n",
        "    url_end = \"&size=20000&sort=asc\"\n",
        "    \n",
        "    url = url_head + url_code + url_params + url_date + url_end\n",
        "\n",
        "    return url\n"
      ]
    },
    {
      "cell_type": "markdown",
      "metadata": {
        "id": "Df5JsSCtUO89"
      },
      "source": [
        "We can now call this function as follow:"
      ]
    },
    {
      "cell_type": "code",
      "execution_count": null,
      "metadata": {
        "colab": {
          "base_uri": "https://localhost:8080/"
        },
        "id": "xFmRJbGkUO89",
        "outputId": "81cce1d2-13b8-4e44-8881-6c4d1dec6e4d"
      },
      "outputs": [],
      "source": [
        "url_ex = getHubeauURLquality(code_ex, \n",
        "                             date_initial_ex, \n",
        "                             date_final_ex, \n",
        "                             params_ex)\n",
        "\n",
        "print(url_ex)\n"
      ]
    },
    {
      "cell_type": "markdown",
      "metadata": {
        "id": "AdYgQqW4UO89"
      },
      "source": [
        "Now, we get and organize the content of this webpage into a pandas dataframe. Please note that a very large number of features are available. You can explore these features by visiting the [API website](https://hubeau.eaufrance.fr/) or by removing the last command in the following cell. \n",
        "\n",
        "Here we only keep following features:\n",
        "- the date of the measurement,\n",
        "- the code of the parameter measured,\n",
        "- the name of the parameter measured (in french),\n",
        "- the resulting value,\n",
        "- the quantification limit,\n",
        "- the detection limit,\n",
        "- the analytical uncertainty\n",
        "\n",
        "and we finally print our dataset."
      ]
    },
    {
      "cell_type": "code",
      "execution_count": null,
      "metadata": {
        "colab": {
          "base_uri": "https://localhost:8080/",
          "height": 426
        },
        "id": "QQB9DhCuUO89",
        "outputId": "23a493b5-3713-48e1-f062-f13d4a90537a"
      },
      "outputs": [],
      "source": [
        "r = requests.get(url_ex)\n",
        "res = r.json()\n",
        "df = pd.DataFrame.from_dict(res[\"data\"])\n",
        "\n",
        "df = df.rename(columns={\"date_debut_prelevement\":\"date\",\n",
        "                        \"resultat\": \"value\"})\n",
        "\n",
        "df = df[['date', 'code_param', 'nom_param', 'value',\n",
        "         'limite_quantification','limite_detection', 'incertitude_analytique']]\n",
        "\n",
        "# We explicitly define the date in a datetime format\n",
        "df['date'] = pd.to_datetime(df['date'], format =  \"%Y-%m-%d\")\n",
        "df = df.set_index(\"date\")\n",
        "df\n"
      ]
    },
    {
      "cell_type": "markdown",
      "metadata": {
        "id": "qFhd54sGUO89"
      },
      "source": [
        "We can now plot the results:"
      ]
    },
    {
      "cell_type": "code",
      "execution_count": null,
      "metadata": {
        "colab": {
          "base_uri": "https://localhost:8080/",
          "height": 336
        },
        "id": "jcZ_4l7RUO89",
        "outputId": "ebd36df7-ee13-4112-91b1-532152c9ec3a"
      },
      "outputs": [],
      "source": [
        "fig, axs = plt.subplots(1, 2, figsize=(15,5))\n",
        "plt.rcParams.update({'font.size': 12})\n",
        "ax = axs[0]\n",
        "ax.set_title('Temperature fluctuation at ' + mycode)\n",
        "\n",
        "# We plot the temperature fluctuation over the period\n",
        "df.loc[df.code_param == 1301]['value'].plot(ax = ax, \n",
        "              marker='o', \n",
        "              alpha=0.5)\n",
        "\n",
        "ax.set_ylabel('Temperature [°C]')\n",
        "ax.set_xlabel('')\n",
        "\n",
        "ax = axs[1]\n",
        "ax.set_title('Nitrates concentration fluctuation at ' + mycode)\n",
        "\n",
        "# We plot the nitrates fluctuation over the period\n",
        "df.loc[df.code_param == 1340]['value'].plot(ax = ax, \n",
        "              marker='o', \n",
        "              alpha=0.5)\n",
        "\n",
        "ax.set_ylabel('Concentration [mg/L]')\n",
        "ax.set_xlabel('')\n",
        "\n",
        "plt.show()\n"
      ]
    },
    {
      "cell_type": "markdown",
      "metadata": {
        "id": "isluixZdUO89"
      },
      "source": [
        "## Discussion\n",
        "\n",
        "This notebook intends to introduce some APIs and geo-webservices dedicated to the (hydro-)geological knowledge of France. This notebook has been reviewed and successfully returns several parameter descriptions around an area of interest. Please note that all input data have been carefully checked, and be aware that an alteration of input data might raise errors and/or inconsistencies. Particularly, some site-specific choices have been made to illustrate different possibilities and must not be generalized to other locations.\n",
        "Of course, readers are invited to play with all input parameters, and focus on other locations, but following advises and comments are given:\n",
        "- the area of interest should be carefully determined and must be of a reasonable size to limit the execution time of different procedures. Particularly, launching a data extraction of the all France is misadvised,\n",
        "- the closeness and depth of boreholes must be taken carefully when comparing some measurements: un-correlated fluctuations can be observed when sensors are note located into the same groundwater body or geological unit, even if boreholes are close.\n",
        "- there are many more available API functionalities not discussed in this notebook. Please visit [Hubeau](https://hubeau.eaufrance.fr/) and [PIC'EAU](https://piceau.brgm.fr/) to find out more.\n",
        "- to work at reginal scales on several stations at a time, there are more efficient methods to extract and analyse data than ones presented in this notebook."
      ]
    }
  ],
  "metadata": {
    "colab": {
      "collapsed_sections": [],
      "include_colab_link": true,
      "name": "PFG-4-exploring-hydro-geological-data-of-france-with-python-5-01-2021.ipynb",
      "provenance": [],
      "toc_visible": true
    },
    "kernelspec": {
      "display_name": "Python 3",
      "language": "python",
      "name": "python3"
    },
    "language_info": {
      "codemirror_mode": {
        "name": "ipython",
        "version": 3
      },
      "file_extension": ".py",
      "mimetype": "text/x-python",
      "name": "python",
      "nbconvert_exporter": "python",
      "pygments_lexer": "ipython3",
      "version": "3.10.9"
    },
    "vscode": {
      "interpreter": {
        "hash": "36cf16204b8548560b1c020c4e8fb5b57f0e4c58016f52f2d4be01e192833930"
      }
    }
  },
  "nbformat": 4,
  "nbformat_minor": 0
}
